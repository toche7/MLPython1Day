{
  "nbformat": 4,
  "nbformat_minor": 0,
  "metadata": {
    "colab": {
      "provenance": [],
      "authorship_tag": "ABX9TyMQrAJK5n3oX5X3qs7Swfl4",
      "include_colab_link": true
    },
    "kernelspec": {
      "name": "python3",
      "display_name": "Python 3"
    },
    "language_info": {
      "name": "python"
    }
  },
  "cells": [
    {
      "cell_type": "markdown",
      "metadata": {
        "id": "view-in-github",
        "colab_type": "text"
      },
      "source": [
        "<a href=\"https://colab.research.google.com/github/toche7/MLPython1Day/blob/main/BasicColab.ipynb\" target=\"_parent\"><img src=\"https://colab.research.google.com/assets/colab-badge.svg\" alt=\"Open In Colab\"/></a>"
      ]
    },
    {
      "cell_type": "markdown",
      "source": [
        "# Basic Concept of Google Colab\n"
      ],
      "metadata": {
        "id": "ecMObRTCsuvz"
      }
    },
    {
      "cell_type": "markdown",
      "source": [
        "\n",
        "* Google Colab เป็น Distribution หนึ่งของ Jupyter Notebook\n",
        "* ประกอบด้วย Code Cell และ Text Cell\n",
        "* Code Cell ทำหน้าที่ไว้เขียน code\n",
        "* Text Cell ทำหน้าที่สำหรับการเขียนข้อความที่สามารถจัดการรูปแบบเอกสารให้สวยงามได้\n"
      ],
      "metadata": {
        "id": "aZVN3AIB09B5"
      }
    },
    {
      "cell_type": "code",
      "source": [],
      "metadata": {
        "id": "17AqXmH41FmE"
      },
      "execution_count": null,
      "outputs": []
    },
    {
      "cell_type": "markdown",
      "source": [
        "## Text Cell\n"
      ],
      "metadata": {
        "id": "8zllwN_UtE9H"
      }
    },
    {
      "cell_type": "markdown",
      "source": [
        "\n",
        "* การ edit, paste (Ctrl V)\n",
        "* การเพิ่ม cell\n",
        "* การลบ cell\n"
      ],
      "metadata": {
        "id": "pOAl7WM50obW"
      }
    },
    {
      "cell_type": "markdown",
      "source": [
        "## Code Cell\n"
      ],
      "metadata": {
        "id": "1GIoW_Gythaz"
      }
    },
    {
      "cell_type": "markdown",
      "source": [
        "\n",
        "* การ edit\n",
        "* การเพิ่มลด cell\n",
        "* การ run\n",
        "* ลำดับการ run Program\n",
        "* การ Run All\n"
      ],
      "metadata": {
        "id": "HLKBn2f10q0E"
      }
    },
    {
      "cell_type": "markdown",
      "source": [
        "## Keyboards Shortcuts\n"
      ],
      "metadata": {
        "id": "Ndf-MwE-uOz7"
      }
    },
    {
      "cell_type": "markdown",
      "source": [
        "\n",
        "* run : Shift Ent\n",
        "* insert cell above : Ctrl+M A\n",
        "* insert cell below : Ctrl+M B\n",
        "* split cell at cursor : Ctrl + M -\n",
        "* cover cell to code cell : Ctrl + M Y\n",
        "* cover cell to text cell : Ctrl + M M\n",
        "\n",
        "More about shortcut see Tool > Keyboards Shortcuts"
      ],
      "metadata": {
        "id": "2ZNJ7F-p0tpw"
      }
    },
    {
      "cell_type": "markdown",
      "source": [
        "## Tools around Colab\n"
      ],
      "metadata": {
        "id": "CMqhLuGVwVCF"
      }
    },
    {
      "cell_type": "markdown",
      "source": [
        "\n",
        "1. TOC\n",
        "2. Search\n",
        "3. Variables\n",
        "4. Files\n",
        "5. Code Snippet\n",
        "6. Command Palette\n",
        "7. Terminal (Pro Version)"
      ],
      "metadata": {
        "id": "_P1g3po20xS6"
      }
    },
    {
      "cell_type": "markdown",
      "source": [],
      "metadata": {
        "id": "6iurcOdKu_IW"
      }
    }
  ]
}