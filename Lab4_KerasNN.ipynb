{
  "nbformat": 4,
  "nbformat_minor": 0,
  "metadata": {
    "kernelspec": {
      "display_name": "Python 3 (system-wide)",
      "language": "python",
      "metadata": {
        "cocalc": {
          "description": "Python 3 programming language",
          "priority": 100,
          "url": "https://www.python.org/"
        }
      },
      "name": "python3"
    },
    "language_info": {
      "codemirror_mode": {
        "name": "ipython",
        "version": 3
      },
      "file_extension": ".py",
      "mimetype": "text/x-python",
      "name": "python",
      "nbconvert_exporter": "python",
      "pygments_lexer": "ipython3",
      "version": "3.8.5"
    },
    "colab": {
      "provenance": [],
      "machine_shape": "hm",
      "gpuClass": "premium",
      "include_colab_link": true
    },
    "accelerator": "TPU",
    "gpuClass": "premium"
  },
  "cells": [
    {
      "cell_type": "markdown",
      "metadata": {
        "id": "view-in-github",
        "colab_type": "text"
      },
      "source": [
        "<a href=\"https://colab.research.google.com/github/toche7/MLPython1Day/blob/main/Lab4_KerasNN.ipynb\" target=\"_parent\"><img src=\"https://colab.research.google.com/assets/colab-badge.svg\" alt=\"Open In Colab\"/></a>"
      ]
    },
    {
      "cell_type": "markdown",
      "source": [
        "#Lab4 Neural Network Using Keras Library\n",
        "\n",
        "Taweesak Samanchuen\n",
        "\n",
        "เอกสารนี้เป็นตัวอย่างการสร้างแบบจำลอง Image Classification ด้วย Neural Network โดยใช้ไลบรารี่ Keras\n",
        "1. สามารถทดสอบประสิทธิภาพการ Run ด้วย CPU GPU และ TPU ได้\n",
        "2. สามารถเพิ่มลดจำนวนของ Hidden Layer ได้ง่าย\n",
        "Google Colab อยู่แล้ว\n",
        "\n",
        "[อ่านเพิ่มเติมเรื่อง CPU GPU TPU](https://medium.com/super-ai-engineer/gpu-tpu-%E0%B8%84%E0%B8%B7%E0%B8%AD%E0%B8%AD%E0%B8%B0%E0%B9%84%E0%B8%A3-%E0%B8%84%E0%B8%A7%E0%B8%A3%E0%B9%83%E0%B8%8A%E0%B9%89%E0%B8%AD%E0%B8%B0%E0%B9%84%E0%B8%A3%E0%B9%83%E0%B8%99%E0%B8%81%E0%B8%B2%E0%B8%A3-train-model-%E0%B8%81%E0%B8%B1%E0%B8%99%E0%B9%81%E0%B8%99%E0%B9%88-1b652666cbbf)"
      ],
      "metadata": {
        "id": "jSGXSNBWzD6v"
      }
    },
    {
      "cell_type": "markdown",
      "source": [
        "<img src ='https://zitaoshen.rbind.io/project/machine_learning/how-to-build-your-own-neural-net-from-the-scrach/featured.png'>\n",
        "\n",
        "credit: https://zitaoshen.rbind.io/project/machine_learning/how-to-build-your-own-neural-net-from-the-scrach/\n"
      ],
      "metadata": {
        "id": "ICenQ4Mh3j9x"
      }
    },
    {
      "cell_type": "code",
      "metadata": {
        "id": "A6lrpPDdjgcl"
      },
      "source": [
        "import numpy as np\n",
        "from tensorflow import keras\n",
        "from tensorflow.keras import layers\n",
        "import matplotlib.pyplot as plt\n",
        "import tensorflow as tf"
      ],
      "execution_count": null,
      "outputs": []
    },
    {
      "cell_type": "code",
      "metadata": {
        "scrolled": true,
        "id": "ZuAjf4P_jgdB",
        "colab": {
          "base_uri": "https://localhost:8080/",
          "height": 56
        },
        "outputId": "fad73d5c-e13d-4908-f3d2-15c6caaeb12b"
      },
      "source": [
        "tf.test.gpu_device_name()"
      ],
      "execution_count": null,
      "outputs": [
        {
          "output_type": "execute_result",
          "data": {
            "text/plain": [
              "''"
            ],
            "application/vnd.google.colaboratory.intrinsic+json": {
              "type": "string"
            }
          },
          "metadata": {},
          "execution_count": 2
        }
      ]
    },
    {
      "cell_type": "code",
      "metadata": {
        "id": "MI-orUE4jgdH",
        "outputId": "a35604eb-d119-4ee8-8b67-e392415ae327",
        "colab": {
          "base_uri": "https://localhost:8080/"
        }
      },
      "source": [
        "num_classes = 10\n",
        "input_shape = (28, 28, 1)\n",
        "\n",
        "# the data, split between train and test sets\n",
        "(x_train, y_train), (x_test, y_test) = keras.datasets.mnist.load_data()\n",
        "\n",
        "# Scale images to the [0, 1] range\n",
        "x_train = x_train.astype(\"float32\") / 255\n",
        "x_test = x_test.astype(\"float32\") / 255\n",
        "\n"
      ],
      "execution_count": null,
      "outputs": [
        {
          "output_type": "stream",
          "name": "stdout",
          "text": [
            "Downloading data from https://storage.googleapis.com/tensorflow/tf-keras-datasets/mnist.npz\n",
            "11490434/11490434 [==============================] - 0s 0us/step\n"
          ]
        }
      ]
    },
    {
      "cell_type": "code",
      "source": [
        "c_axis = 4\n",
        "r_axis = 2\n",
        "fig, ax = plt.subplots(r_axis, c_axis, constrained_layout = True)\n",
        "i  = 0\n",
        "for row_axis in range(r_axis):\n",
        "  for column_axis in range(c_axis):\n",
        "    ax[row_axis,column_axis].imshow(x_train[i].reshape(28,28), cmap='gist_gray')\n",
        "    ax[row_axis,column_axis].set_xlabel(\"label: %d\" %int(y_train[i]))\n",
        "    i += 1\n",
        "plt.show()"
      ],
      "metadata": {
        "id": "SPlrm-IsqCgh",
        "colab": {
          "base_uri": "https://localhost:8080/",
          "height": 468
        },
        "outputId": "f6b2a1e0-f810-499d-a8ff-df68ae3b46aa"
      },
      "execution_count": null,
      "outputs": [
        {
          "output_type": "display_data",
          "data": {
            "text/plain": [
              "<Figure size 640x480 with 8 Axes>"
            ],
            "image/png": "[encoded data removed]"
          },
          "metadata": {}
        }
      ]
    },
    {
      "cell_type": "code",
      "metadata": {
        "id": "04zZ5g9ZjgdM",
        "colab": {
          "base_uri": "https://localhost:8080/"
        },
        "outputId": "c6705aa0-5e87-4953-e80c-79ba4d11b088"
      },
      "source": [
        "# Make sure images have shape (28, 28, 1)\n",
        "x_train = np.expand_dims(x_train, -1)\n",
        "x_test = np.expand_dims(x_test, -1)\n",
        "\n",
        "print(\"x_train shape:\", x_train.shape)\n",
        "print(x_train.shape[0], \"train samples\")\n",
        "print(x_test.shape[0], \"test samples\")"
      ],
      "execution_count": null,
      "outputs": [
        {
          "output_type": "stream",
          "name": "stdout",
          "text": [
            "x_train shape: (60000, 28, 28, 1)\n",
            "60000 train samples\n",
            "10000 test samples\n"
          ]
        }
      ]
    },
    {
      "cell_type": "code",
      "metadata": {
        "id": "7hmXxtc_jgdQ",
        "colab": {
          "base_uri": "https://localhost:8080/"
        },
        "outputId": "71981af8-86c4-4b34-cacd-d0c9e95b447e"
      },
      "source": [
        "y_train[1]"
      ],
      "execution_count": null,
      "outputs": [
        {
          "output_type": "execute_result",
          "data": {
            "text/plain": [
              "0"
            ]
          },
          "metadata": {},
          "execution_count": 6
        }
      ]
    },
    {
      "cell_type": "code",
      "metadata": {
        "id": "jA0_rtt-jgdZ"
      },
      "source": [
        "# convert class vectors to binary class matrices\n",
        "y_train = keras.utils.to_categorical(y_train, num_classes)\n",
        "y_test = keras.utils.to_categorical(y_test, num_classes)"
      ],
      "execution_count": null,
      "outputs": []
    },
    {
      "cell_type": "code",
      "metadata": {
        "id": "3tbHwmb0jgde",
        "colab": {
          "base_uri": "https://localhost:8080/"
        },
        "outputId": "006961ee-9abb-4404-cf91-081ba1533e2d"
      },
      "source": [
        "y_train[1]"
      ],
      "execution_count": null,
      "outputs": [
        {
          "output_type": "execute_result",
          "data": {
            "text/plain": [
              "array([1., 0., 0., 0., 0., 0., 0., 0., 0., 0.], dtype=float32)"
            ]
          },
          "metadata": {},
          "execution_count": 8
        }
      ]
    },
    {
      "cell_type": "code",
      "metadata": {
        "id": "jmpIPU3Qjgdl",
        "colab": {
          "base_uri": "https://localhost:8080/"
        },
        "outputId": "1aaa2788-f04a-4d12-bbf0-caf19ef2466b"
      },
      "source": [
        "model = tf.keras.models.Sequential([\n",
        "  tf.keras.layers.Flatten(input_shape=(28, 28, 1)),\n",
        "  tf.keras.layers.Dense(128,activation='relu'),\n",
        "  tf.keras.layers.Dense(10, activation='softmax')\n",
        "])\n",
        "\n",
        "model.summary()"
      ],
      "execution_count": null,
      "outputs": [
        {
          "output_type": "stream",
          "name": "stdout",
          "text": [
            "Model: \"sequential\"\n",
            "_________________________________________________________________\n",
            " Layer (type)                Output Shape              Param #   \n",
            "=================================================================\n",
            " flatten (Flatten)           (None, 784)               0         \n",
            "                                                                 \n",
            " dense (Dense)               (None, 128)               100480    \n",
            "                                                                 \n",
            " dense_1 (Dense)             (None, 10)                1290      \n",
            "                                                                 \n",
            "=================================================================\n",
            "Total params: 101,770\n",
            "Trainable params: 101,770\n",
            "Non-trainable params: 0\n",
            "_________________________________________________________________\n"
          ]
        }
      ]
    },
    {
      "cell_type": "code",
      "metadata": {
        "id": "BrGtXMppjgdp",
        "colab": {
          "base_uri": "https://localhost:8080/"
        },
        "outputId": "e75aebf6-2044-4e86-e151-51087e660ffb"
      },
      "source": [
        "batch_size = 100\n",
        "epochs = 10\n",
        "\n",
        "model.compile(loss=\"categorical_crossentropy\", optimizer=\"adam\", metrics=[\"accuracy\"])\n",
        "\n",
        "model.fit(x_train, y_train, batch_size=batch_size, epochs=epochs, validation_split=0.1)"
      ],
      "execution_count": null,
      "outputs": [
        {
          "output_type": "stream",
          "name": "stdout",
          "text": [
            "Epoch 1/10\n",
            "540/540 [==============================] - 2s 3ms/step - loss: 0.3508 - accuracy: 0.9044 - val_loss: 0.1646 - val_accuracy: 0.9557\n",
            "Epoch 2/10\n",
            "540/540 [==============================] - 2s 3ms/step - loss: 0.1681 - accuracy: 0.9511 - val_loss: 0.1214 - val_accuracy: 0.9665\n",
            "Epoch 3/10\n",
            "540/540 [==============================] - 2s 3ms/step - loss: 0.1183 - accuracy: 0.9653 - val_loss: 0.0970 - val_accuracy: 0.9725\n",
            "Epoch 4/10\n",
            "540/540 [==============================] - 2s 3ms/step - loss: 0.0899 - accuracy: 0.9741 - val_loss: 0.0827 - val_accuracy: 0.9768\n",
            "Epoch 5/10\n",
            "540/540 [==============================] - 2s 3ms/step - loss: 0.0727 - accuracy: 0.9786 - val_loss: 0.0807 - val_accuracy: 0.9775\n",
            "Epoch 6/10\n",
            "540/540 [==============================] - 1s 3ms/step - loss: 0.0587 - accuracy: 0.9830 - val_loss: 0.0734 - val_accuracy: 0.9797\n",
            "Epoch 7/10\n",
            "540/540 [==============================] - 1s 3ms/step - loss: 0.0491 - accuracy: 0.9858 - val_loss: 0.0713 - val_accuracy: 0.9812\n",
            "Epoch 8/10\n",
            "540/540 [==============================] - 2s 3ms/step - loss: 0.0403 - accuracy: 0.9888 - val_loss: 0.0712 - val_accuracy: 0.9800\n",
            "Epoch 9/10\n",
            "540/540 [==============================] - 2s 3ms/step - loss: 0.0337 - accuracy: 0.9903 - val_loss: 0.0741 - val_accuracy: 0.9798\n",
            "Epoch 10/10\n",
            "540/540 [==============================] - 2s 3ms/step - loss: 0.0286 - accuracy: 0.9922 - val_loss: 0.0752 - val_accuracy: 0.9793\n"
          ]
        },
        {
          "output_type": "execute_result",
          "data": {
            "text/plain": [
              "<keras.callbacks.History at 0x7ac72cb43490>"
            ]
          },
          "metadata": {},
          "execution_count": 10
        }
      ]
    },
    {
      "cell_type": "code",
      "metadata": {
        "id": "NYn11K7Mjgdu",
        "colab": {
          "base_uri": "https://localhost:8080/"
        },
        "outputId": "72325a0b-006f-43a5-b1f7-36bcd479aa30"
      },
      "source": [
        "score = model.evaluate(x_test, y_test, verbose=0)\n",
        "print(\"Test loss:\", score[0])\n",
        "print(\"Test accuracy:\", score[1])"
      ],
      "execution_count": null,
      "outputs": [
        {
          "output_type": "stream",
          "name": "stdout",
          "text": [
            "Test loss: 0.0761195495724678\n",
            "Test accuracy: 0.9763000011444092\n"
          ]
        }
      ]
    }
  ]
}