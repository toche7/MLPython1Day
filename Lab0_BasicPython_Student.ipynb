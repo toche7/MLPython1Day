{
  "nbformat": 4,
  "nbformat_minor": 0,
  "metadata": {
    "kernelspec": {
      "display_name": "Python 3 (system-wide)",
      "language": "python",
      "metadata": {
        "cocalc": {
          "description": "Python 3 programming language",
          "priority": 100,
          "url": "https://www.python.org/"
        }
      },
      "name": "python3"
    },
    "language_info": {
      "codemirror_mode": {
        "name": "ipython",
        "version": 3
      },
      "file_extension": ".py",
      "mimetype": "text/x-python",
      "name": "python",
      "nbconvert_exporter": "python",
      "pygments_lexer": "ipython3",
      "version": "3.8.5"
    },
    "colab": {
      "provenance": [],
      "include_colab_link": true
    }
  },
  "cells": [
    {
      "cell_type": "markdown",
      "metadata": {
        "id": "view-in-github",
        "colab_type": "text"
      },
      "source": [
        "<a href=\"https://colab.research.google.com/github/toche7/MLPython1Day/blob/main/Lab0_BasicPython_Student.ipynb\" target=\"_parent\"><img src=\"https://colab.research.google.com/assets/colab-badge.svg\" alt=\"Open In Colab\"/></a>"
      ]
    },
    {
      "cell_type": "markdown",
      "metadata": {
        "_uuid": "ab49cddce0098d90fbb1b447ba93cc3d1f0a683e",
        "collapsed": false,
        "id": "SU0fc9FMWAAQ"
      },
      "source": [
        "# Basic Python สำหรับ Data Science\n",
        "\n",
        "\n"
      ]
    },
    {
      "cell_type": "markdown",
      "metadata": {
        "_uuid": "7591852c70f28424903a4af62c70438869e08df6",
        "collapsed": false,
        "id": "6xP8S_RvWAAY"
      },
      "source": [
        "## Python <a id=\"Python\"></a>\n",
        "* High level programming language\n",
        "* Script programing language\n",
        "* Dynamically typed language"
      ]
    },
    {
      "cell_type": "markdown",
      "metadata": {
        "_uuid": "7f0783024b72c1a7100099c807dc08f7b7f31c1a",
        "collapsed": false,
        "id": "4ZX1fyV_WAAZ"
      },
      "source": [
        "### เวอร์ชั่นของ Python\n"
      ]
    },
    {
      "cell_type": "code",
      "metadata": {
        "_uuid": "5a4cba30e8b8a48de055e030d9ec9f48753de21d",
        "trusted": true,
        "id": "XBMxq30kWAAb",
        "outputId": "6624aa71-9f23-4826-df5c-f6d4e9b6fdf8",
        "colab": {
          "base_uri": "https://localhost:8080/"
        }
      },
      "source": [
        "!python --version"
      ],
      "execution_count": null,
      "outputs": [
        {
          "output_type": "stream",
          "name": "stdout",
          "text": [
            "Python 3.9.16\n"
          ]
        }
      ]
    },
    {
      "cell_type": "markdown",
      "source": [],
      "metadata": {
        "id": "D_b_6XtFrQ18"
      }
    },
    {
      "cell_type": "markdown",
      "metadata": {
        "_uuid": "5365b8b6896865b1a6ed2ac5860d027f267a646a",
        "collapsed": false,
        "id": "q5NBREc2WAAm"
      },
      "source": [
        "## Basic Data Types\n",
        "Python เองก็มีตัวแปรพื้นฐานเช่นเดียวกับภาษาอื่นๆ อาทิเช่น จำนวนเต็ม (int) จำนวนจริง (float) บูเลียน (boolean) และสตริง (string)\n",
        "\n"
      ]
    },
    {
      "cell_type": "markdown",
      "source": [
        "### Integer and Real Number\n"
      ],
      "metadata": {
        "id": "EQhhv7zdKa-w"
      }
    },
    {
      "cell_type": "code",
      "source": [],
      "metadata": {
        "id": "4kNxV9NKql41"
      },
      "execution_count": null,
      "outputs": []
    },
    {
      "cell_type": "code",
      "source": [],
      "metadata": {
        "id": "58rESjsiqlzO"
      },
      "execution_count": null,
      "outputs": []
    },
    {
      "cell_type": "markdown",
      "source": [
        "### Object oriented programming\n"
      ],
      "metadata": {
        "id": "iaoLZ6PWDK2D"
      }
    },
    {
      "cell_type": "markdown",
      "source": [
        "\n",
        "`x = 10 `\n",
        "เป็นการประกาศค่าเริ่มต้นให้ x โดย x จะกลายเป็นค่า object ประเภท int ที่มีค่า 10 โดยเราจะเห็นได้จาก\n",
        "\n",
        "`<class 'int'>`\n",
        "\n",
        "โดยแนวคิดของ object จะประกอบไปด้วย 2 ส่วนคือ\n",
        "1. Property\n",
        "2. Method (function)\n",
        "\n",
        "อย่างเช่น class เป็น EV (รถยนต์ไฟฟ้า)\n",
        "Property : สีรถ, เครื่องยนต์, ล้อรถ\n",
        "Method: เดินหน้า, ถอยหลัง, เลี่ยว\n",
        "\n",
        "แนวทางการใช้งาน\n",
        "\n",
        "\n",
        "``` python\n",
        "car1 = EV            # สร้าง object car1\n",
        "car1.color = 'red'   # กำหนด property\n",
        "car1.forward()       # สั่งให้เคลื่อนที่ไปข้างหน้า\n",
        "                     # สังเกตว่ามีเครื่องหมายวงเล็บปิดท้าย method ส่วน property จะไม่มี\n",
        "```\n",
        "\n",
        "\n"
      ],
      "metadata": {
        "id": "oUHegX0EHZUn"
      }
    },
    {
      "cell_type": "code",
      "source": [],
      "metadata": {
        "id": "LRwh4aREqoaF"
      },
      "execution_count": null,
      "outputs": []
    },
    {
      "cell_type": "code",
      "source": [],
      "metadata": {
        "id": "fGdXElKyqoTP"
      },
      "execution_count": null,
      "outputs": []
    },
    {
      "cell_type": "markdown",
      "metadata": {
        "_uuid": "6a91a950668d32f878f9c55fa377a98be83d1531",
        "collapsed": false,
        "id": "120kKFYFWAAw"
      },
      "source": [
        "### Boolean\n",
        "เป็นข้อมูลอีกประเภทหนึ่งที่ใช้งานในเชิงตรรกศาสตร์ คือ มีค่าสองค่า True และ False ซึ่งจะใช้งานในเชิงการตัดสินใจในการเขียนโปรแกรม"
      ]
    },
    {
      "cell_type": "code",
      "source": [],
      "metadata": {
        "id": "OFwLBP3Xqthg"
      },
      "execution_count": null,
      "outputs": []
    },
    {
      "cell_type": "code",
      "source": [],
      "metadata": {
        "id": "u7m_SBtRqtb3"
      },
      "execution_count": null,
      "outputs": []
    },
    {
      "cell_type": "markdown",
      "metadata": {
        "_uuid": "53004b2fd1aea9c29cd04f5d7adf09ea6c543c58",
        "collapsed": false,
        "id": "zLB4pqC9WAA0"
      },
      "source": [
        "### String\n"
      ]
    },
    {
      "cell_type": "code",
      "source": [],
      "metadata": {
        "id": "Ofvhd91Hqw8T"
      },
      "execution_count": null,
      "outputs": []
    },
    {
      "cell_type": "code",
      "source": [],
      "metadata": {
        "id": "bGjmghQxqw4G"
      },
      "execution_count": null,
      "outputs": []
    },
    {
      "cell_type": "markdown",
      "source": [
        "### Python is a dynamicall typed language\n",
        "https://www.analyticsvidhya.com/blog/2021/04/an-overview-of-python-memory-management/\n",
        "\n"
      ],
      "metadata": {
        "id": "amQBxunY5hfb"
      }
    },
    {
      "cell_type": "code",
      "source": [],
      "metadata": {
        "id": "Or4MGnt3qzTt"
      },
      "execution_count": null,
      "outputs": []
    },
    {
      "cell_type": "code",
      "source": [],
      "metadata": {
        "id": "vrnms2xtqzPz"
      },
      "execution_count": null,
      "outputs": []
    },
    {
      "cell_type": "markdown",
      "source": [
        "## Control Flow Statement\n",
        "\n"
      ],
      "metadata": {
        "id": "UMN8Yr1avKG7"
      }
    },
    {
      "cell_type": "markdown",
      "source": [
        "###if\n",
        "\n",
        "ลักษณะโครงสร้างของการใช้ if เป็นดังนี้\n",
        "\n",
        "\n",
        "```python\n",
        "if some_condition:\n",
        "    statement1\n",
        "    statement2\n",
        "```\n",
        "\n",
        "ให้สังเกตว่าหลัง some\\_condition จะตามด้วย colon \\( : \\)"
      ],
      "metadata": {
        "id": "KTIceRUFvKG8"
      }
    },
    {
      "cell_type": "code",
      "source": [],
      "metadata": {
        "id": "J6B3zG3_q1sA"
      },
      "execution_count": null,
      "outputs": []
    },
    {
      "cell_type": "code",
      "source": [],
      "metadata": {
        "id": "idNlDlrIBWHI"
      },
      "execution_count": null,
      "outputs": []
    },
    {
      "cell_type": "markdown",
      "source": [
        "### If\\-else\n",
        "\n",
        "กรณีที่มี 2 เส้นทางที่ต้องดำเนินการที่แตกต่างกันหลังจากการตรวจสอบเงื่อนไข\n",
        "\n",
        "```python\n",
        "if some_condition:\n",
        "    statement1\n",
        "    statement2\n",
        "    \n",
        "else:    \n",
        "    statement3\n",
        "    statement4\n",
        "```\n",
        "\n"
      ],
      "metadata": {
        "id": "3Imw6uH0vKG_"
      }
    },
    {
      "cell_type": "code",
      "source": [],
      "metadata": {
        "id": "IdqJl3CPq3EO"
      },
      "execution_count": null,
      "outputs": []
    },
    {
      "cell_type": "code",
      "source": [],
      "metadata": {
        "id": "0hLUEbp8BW7U"
      },
      "execution_count": null,
      "outputs": []
    },
    {
      "cell_type": "markdown",
      "source": [
        "### if\\-elif\n",
        "\n",
        "``` python\n",
        "if some_condition:    \n",
        "    statement1\n",
        "    statement2\n",
        "\n",
        "elif some_condition:    \n",
        "    statement3\n",
        "    statement4\n",
        "\n",
        "else:    \n",
        "    statement5\n",
        "    statement6\n",
        "```\n"
      ],
      "metadata": {
        "id": "SKejAMZIvKHA"
      }
    },
    {
      "cell_type": "code",
      "source": [],
      "metadata": {
        "id": "QeQH0bw_q4Xl"
      },
      "execution_count": null,
      "outputs": []
    },
    {
      "cell_type": "code",
      "source": [],
      "metadata": {
        "id": "L0Kak8mpBYjS"
      },
      "execution_count": null,
      "outputs": []
    },
    {
      "cell_type": "markdown",
      "metadata": {
        "_uuid": "bbc2109a3ef6d5b8e432d13511b3ee23942ab7fc",
        "collapsed": false,
        "id": "PWk3uXxhvisW"
      },
      "source": [
        "## Loops\n",
        "ในบางครั้งเราต้องการให้โปรแกรมคอมพิวเตอร์ทำงานในลักษณะที่ซ้ำๆ การเขียนด้วย for loop ก็จะช่วยให้เราทำงานสะดวกขึ้น"
      ]
    },
    {
      "cell_type": "markdown",
      "source": [
        "### For\n",
        "โครงสร้างการเขียน\n",
        "\n",
        "``` python\n",
        "for variable in something:    \n",
        "    statement1\n",
        "    statement2\n",
        "```"
      ],
      "metadata": {
        "id": "Tm_ZOwG7vqvR"
      }
    },
    {
      "cell_type": "code",
      "source": [],
      "metadata": {
        "id": "9JQyCsbdq6kg"
      },
      "execution_count": null,
      "outputs": []
    },
    {
      "cell_type": "code",
      "source": [],
      "metadata": {
        "id": "UehpbJp7BZqd"
      },
      "execution_count": null,
      "outputs": []
    },
    {
      "cell_type": "markdown",
      "source": [
        "### While\n",
        "\n",
        "วิธีการการใช้งาน while loop เป็นดังนี้\n",
        "\n",
        "```python\n",
        "while some_condition:\n",
        "    statement1\n",
        "    statement2\n",
        "```"
      ],
      "metadata": {
        "id": "FaRf5oNgw65R"
      }
    },
    {
      "cell_type": "code",
      "source": [],
      "metadata": {
        "id": "CFmnVgq-q9vn"
      },
      "execution_count": null,
      "outputs": []
    },
    {
      "cell_type": "code",
      "source": [],
      "metadata": {
        "id": "uxOXO0KvBaQS"
      },
      "execution_count": null,
      "outputs": []
    },
    {
      "cell_type": "markdown",
      "metadata": {
        "_uuid": "089d075a83871b192fbb153f6814d38092d053fa",
        "collapsed": false,
        "id": "UxeUEaPwWAA-"
      },
      "source": [
        "## Function\n",
        "เรามาทำความรู้การประกาศฟังก์ชัน ในเบื้องต้นก่อนเพื่อจะได้ทำแบบฝึกหัด\n",
        "การประกาศฟังก์ชันมีรูปแบบดังนี้\n",
        "\n",
        "``` python\n",
        "\n",
        "# This is formatted as code\n",
        "def functionName(arguments):\n",
        "    statement1\n",
        "    statement2\n",
        "    return  var1\n",
        "```"
      ]
    },
    {
      "cell_type": "code",
      "source": [],
      "metadata": {
        "id": "HKVtPabzrCgI"
      },
      "execution_count": null,
      "outputs": []
    },
    {
      "cell_type": "code",
      "source": [],
      "metadata": {
        "id": "bgwHpRttrCao"
      },
      "execution_count": null,
      "outputs": []
    },
    {
      "cell_type": "markdown",
      "source": [
        "return ของฟังก์ชันนั้นจะมีหรือไม่ก็ได้ ดังตัวอย่างต่อไปนี้ จะไม่มีการ return ค่าส่งกลับมา"
      ],
      "metadata": {
        "id": "FpUHI-2QMr7B"
      }
    },
    {
      "cell_type": "code",
      "source": [],
      "metadata": {
        "id": "1t2-UXeQrBLJ"
      },
      "execution_count": null,
      "outputs": []
    },
    {
      "cell_type": "code",
      "source": [],
      "metadata": {
        "id": "4Og0y8OgrBCg"
      },
      "execution_count": null,
      "outputs": []
    },
    {
      "cell_type": "markdown",
      "metadata": {
        "collapsed": false,
        "id": "tkYO8iSGWABE"
      },
      "source": [
        "## Exerciser 1\n",
        "จงเขียนโปรแกรมเพื่อตรวจสอบว่าประโยคทั้ง 2 ประโยคนี้เท่ากันหรือไม่ โดยไม่สนใจเรื่องของตัวอักษรตัวเล็กหรือตัวใหญ่\n"
      ]
    },
    {
      "cell_type": "code",
      "source": [
        "!pip install nose"
      ],
      "metadata": {
        "colab": {
          "base_uri": "https://localhost:8080/"
        },
        "id": "xNTm2S98AR3Y",
        "outputId": "78593c7f-7862-4b59-d7c3-1eedfebfb292"
      },
      "execution_count": null,
      "outputs": [
        {
          "output_type": "stream",
          "name": "stdout",
          "text": [
            "Looking in indexes: https://pypi.org/simple, https://us-python.pkg.dev/colab-wheels/public/simple/\n",
            "Requirement already satisfied: nose in /usr/local/lib/python3.9/dist-packages (1.3.7)\n"
          ]
        }
      ]
    },
    {
      "cell_type": "code",
      "metadata": {
        "deletable": false,
        "nbgrader": {
          "cell_type": "code",
          "checksum": "9dd1fc845a07775db8fd80f44d26aaf5",
          "grade": false,
          "grade_id": "7c3d5d",
          "locked": false,
          "schema_version": 3,
          "solution": true,
          "task": false
        },
        "id": "AsV9lUSeWABG"
      },
      "source": [
        "def checkStringEqual(a, b): # modify function name and parameters\n",
        "    \"\"\"\n",
        "    Check a and b are the same sentense without care about the Upper or Lower charactors\n",
        "    \"\"\"\n",
        "    # YOUR CODE HERE\n",
        "    raise NotImplementedError()\n",
        "\n",
        "    return result\n"
      ],
      "execution_count": null,
      "outputs": []
    },
    {
      "cell_type": "code",
      "metadata": {
        "deletable": false,
        "editable": false,
        "nbgrader": {
          "grade": true,
          "grade_id": "70ede0",
          "locked": true,
          "points": 1,
          "schema_version": 3,
          "solution": false,
          "task": false
        },
        "id": "zR3jA46jWABJ"
      },
      "source": [
        "a = 'I Love Dog'\n",
        "b = 'I love dog'\n",
        "checkStringEqual(a,b)\n",
        "c = 'I love cat'\n",
        "checkStringEqual(a,c)\n",
        "\n",
        "# [Modify the tests below for your own problem]\n",
        "# Check that squares returns the correct output for several inputs:\n",
        "from nose.tools import assert_equal\n",
        "assert_equal(checkStringEqual(a,b), True)\n",
        "\n"
      ],
      "execution_count": null,
      "outputs": []
    },
    {
      "cell_type": "markdown",
      "source": [
        "## Exercise 2\n",
        "\n",
        "จงเขียนโปรแกรม \"for\" loop เพื่อบวกเลข ที่เก็บไว้ใน a โดยเพิ่มขึ้นครั้งละ 1 ไปจนถึง b  โดย a < b อย่างเช่น <br>\n",
        "a = 1 <br>\n",
        "b = 4 <br>\n",
        "totalSum = 1 + 2 + 3<br>"
      ],
      "metadata": {
        "id": "59tLwTid5hfw"
      }
    },
    {
      "cell_type": "code",
      "source": [
        "def totalSum(a,b):\n",
        "    total = 0\n",
        "    # YOUR CODE HERE\n",
        "    raise NotImplementedError()\n",
        "\n",
        "    return total\n"
      ],
      "metadata": {
        "id": "1gaeP52i5lZ7"
      },
      "execution_count": null,
      "outputs": []
    },
    {
      "cell_type": "code",
      "source": [
        "# [Modify the tests below for your own problem]\n",
        "# Check that squares returns the correct output for several inputs:\n",
        "from nose.tools import assert_equal\n",
        "assert_equal(totalSum(1,100), 4950)"
      ],
      "metadata": {
        "colab": {
          "base_uri": "https://localhost:8080/",
          "height": 321
        },
        "id": "udsDyOpZ5q9n",
        "outputId": "083c5d71-ba66-45f3-b58a-8138cbe9b0c2"
      },
      "execution_count": null,
      "outputs": [
        {
          "output_type": "error",
          "ename": "NotImplementedError",
          "evalue": "ignored",
          "traceback": [
            "\u001b[0;31m---------------------------------------------------------------------------\u001b[0m",
            "\u001b[0;31mNotImplementedError\u001b[0m                       Traceback (most recent call last)",
            "\u001b[0;32m<ipython-input-39-c839f62f4c0d>\u001b[0m in \u001b[0;36m<cell line: 4>\u001b[0;34m()\u001b[0m\n\u001b[1;32m      2\u001b[0m \u001b[0;31m# Check that squares returns the correct output for several inputs:\u001b[0m\u001b[0;34m\u001b[0m\u001b[0;34m\u001b[0m\u001b[0m\n\u001b[1;32m      3\u001b[0m \u001b[0;32mfrom\u001b[0m \u001b[0mnose\u001b[0m\u001b[0;34m.\u001b[0m\u001b[0mtools\u001b[0m \u001b[0;32mimport\u001b[0m \u001b[0massert_equal\u001b[0m\u001b[0;34m\u001b[0m\u001b[0;34m\u001b[0m\u001b[0m\n\u001b[0;32m----> 4\u001b[0;31m \u001b[0massert_equal\u001b[0m\u001b[0;34m(\u001b[0m\u001b[0mtotalSum\u001b[0m\u001b[0;34m(\u001b[0m\u001b[0;36m1\u001b[0m\u001b[0;34m,\u001b[0m\u001b[0;36m100\u001b[0m\u001b[0;34m)\u001b[0m\u001b[0;34m,\u001b[0m \u001b[0;36m4950\u001b[0m\u001b[0;34m)\u001b[0m\u001b[0;34m\u001b[0m\u001b[0;34m\u001b[0m\u001b[0m\n\u001b[0m",
            "\u001b[0;32m<ipython-input-38-9a9a1fe8fec7>\u001b[0m in \u001b[0;36mtotalSum\u001b[0;34m(a, b)\u001b[0m\n\u001b[1;32m      2\u001b[0m     \u001b[0mtotal\u001b[0m \u001b[0;34m=\u001b[0m \u001b[0;36m0\u001b[0m\u001b[0;34m\u001b[0m\u001b[0;34m\u001b[0m\u001b[0m\n\u001b[1;32m      3\u001b[0m     \u001b[0;31m# YOUR CODE HERE\u001b[0m\u001b[0;34m\u001b[0m\u001b[0;34m\u001b[0m\u001b[0m\n\u001b[0;32m----> 4\u001b[0;31m     \u001b[0;32mraise\u001b[0m \u001b[0mNotImplementedError\u001b[0m\u001b[0;34m(\u001b[0m\u001b[0;34m)\u001b[0m\u001b[0;34m\u001b[0m\u001b[0;34m\u001b[0m\u001b[0m\n\u001b[0m\u001b[1;32m      5\u001b[0m \u001b[0;34m\u001b[0m\u001b[0m\n\u001b[1;32m      6\u001b[0m     \u001b[0;32mreturn\u001b[0m \u001b[0mtotal\u001b[0m\u001b[0;34m\u001b[0m\u001b[0;34m\u001b[0m\u001b[0m\n",
            "\u001b[0;31mNotImplementedError\u001b[0m: "
          ]
        }
      ]
    },
    {
      "cell_type": "markdown",
      "metadata": {
        "_uuid": "47a95d790707e571c3eab11f1b516bd799564bcd",
        "collapsed": false,
        "id": "js-SGg3cWABM"
      },
      "source": [
        "# Containers <a id=\"Containers\"></a>\n",
        "Python นั้นมีตัวแปรพิเศษที่สามารถใส่ตัวแปรอื่นๆ เข้าไปข้างในได้ (เรียกตัวแปรพิเศษเหล่านี้ว่า container) ที่หลากหลายและใช้งานสะดวกมาก เช่น  lists, dictionaries, sets, and tuples.\n",
        "\n"
      ]
    },
    {
      "cell_type": "markdown",
      "source": [
        "\n",
        "## List\n",
        "เป็นตัวแปรทีสามารถเก็บตัวแปรชนิดอื่นๆ ได้ โดยไม่จำกัดชนิด และไม่จำกัดจำนวนและไม่จำเป็นต้องมีการประกาศไว้ล่วงหน้า\n",
        "\n",
        "\n",
        "``` python\n",
        "lstA = [1, 'a', 'b', 3]\n",
        "```\n",
        "\n"
      ],
      "metadata": {
        "id": "45nAY7r3WlXT"
      }
    },
    {
      "cell_type": "code",
      "source": [],
      "metadata": {
        "id": "vbbw9Sc8rG40"
      },
      "execution_count": null,
      "outputs": []
    },
    {
      "cell_type": "code",
      "source": [],
      "metadata": {
        "id": "XHozB8zzrG0Z"
      },
      "execution_count": null,
      "outputs": []
    },
    {
      "cell_type": "markdown",
      "source": [
        "**ข้อควรระวัง**\n",
        "เนื่องจาก Python เป็น Dynamicalled Typed Language อย่างที่ได้กล่าวไว้ เราจะทำสิ่งผิดพลาดต่อไปนี้ได้\n",
        "\n",
        "\n",
        "``` python\n",
        "lstB = lstA\n",
        "```\n",
        "\n"
      ],
      "metadata": {
        "id": "AowMFYmvCdM9"
      }
    },
    {
      "cell_type": "code",
      "source": [],
      "metadata": {
        "id": "1UK-GWQUrNDu"
      },
      "execution_count": null,
      "outputs": []
    },
    {
      "cell_type": "code",
      "source": [],
      "metadata": {
        "id": "hiCSlvTKktuN"
      },
      "execution_count": null,
      "outputs": []
    },
    {
      "cell_type": "markdown",
      "source": [
        "### Loop with List\n",
        "loop กับ list เป็นสิ่งที่คู่กัน เราสามารถนำเอาทั้งสองสิ่งที่นี้มาใช้งานได้อย่างมีประสิทธิภาพดังนี้"
      ],
      "metadata": {
        "id": "NLv-hEBuzrHc"
      }
    },
    {
      "cell_type": "code",
      "source": [],
      "metadata": {
        "id": "Uj6whJnarP4r"
      },
      "execution_count": null,
      "outputs": []
    },
    {
      "cell_type": "code",
      "source": [],
      "metadata": {
        "id": "TDgBUc1VCHaE"
      },
      "execution_count": null,
      "outputs": []
    },
    {
      "cell_type": "markdown",
      "source": [
        "บางกรณีเราจำเป็นต้องอ้างถึงตำแหน่งของข้อมูล ต้องใช้คำสั่ง enumerate\n",
        "\n",
        "\n",
        "``` python\n",
        "A = ['x', 'y', 'z']\n",
        "a = enumerate(A)\n",
        "list(a)\n",
        "```\n",
        "\n"
      ],
      "metadata": {
        "id": "knQqRqHc1KNA"
      }
    },
    {
      "cell_type": "code",
      "source": [],
      "metadata": {
        "id": "llwGMP53rS1g"
      },
      "execution_count": null,
      "outputs": []
    },
    {
      "cell_type": "code",
      "source": [],
      "metadata": {
        "id": "mgI4ARO9rSxC"
      },
      "execution_count": null,
      "outputs": []
    },
    {
      "cell_type": "markdown",
      "metadata": {
        "_uuid": "af68aee935a66df4c7ddced7a889918b99b1551d",
        "collapsed": false,
        "id": "0ySkSA7sWABQ"
      },
      "source": [
        "### Slicing\n",
        "การทำ slicing (สไลด์ซิ่ง) บน list คือการเข้าถึงตัวแปรหลายๆ ตัวบน list พร้อมๆ กัน ซึ่งเป็นคุณสมบัติที่ใช้งานได้สะดวกมากๆ"
      ]
    },
    {
      "cell_type": "code",
      "source": [],
      "metadata": {
        "id": "HfRTEKMnrVpz"
      },
      "execution_count": null,
      "outputs": []
    },
    {
      "cell_type": "code",
      "source": [],
      "metadata": {
        "id": "ppNEFf5grVkB"
      },
      "execution_count": null,
      "outputs": []
    },
    {
      "cell_type": "markdown",
      "metadata": {
        "_uuid": "f45fdff7068037cebd8aa43df824f8c23a7f8617",
        "collapsed": false,
        "id": "rHLVBTBaWABn"
      },
      "source": [
        "## Dictionary\n",
        "Container สุดยอดอีกตัวของ Python คือ dictionary (เรียกสั้นๆ ว่า dict) โดยจะประกอบไปด้วย key และ value ประกอบกันเป็นคู่ดังนี้\n",
        "\n",
        "```python\n",
        "{key1 : value1, key2 : value2}\n",
        "```\n",
        "โดย key และ value จะเป็นตัวแปรประเภทใดก็ได้"
      ]
    },
    {
      "cell_type": "code",
      "source": [],
      "metadata": {
        "id": "Ln9YHXobrYJM"
      },
      "execution_count": null,
      "outputs": []
    },
    {
      "cell_type": "code",
      "source": [],
      "metadata": {
        "id": "Rs2QWrNlrYE_"
      },
      "execution_count": null,
      "outputs": []
    },
    {
      "cell_type": "markdown",
      "metadata": {
        "_uuid": "bbc2109a3ef6d5b8e432d13511b3ee23942ab7fc",
        "collapsed": false,
        "id": "VxAWhqWRWABq"
      },
      "source": [
        "### Loops with Dict\n",
        "เราสามารถวนลูปใน dict ได้ง่ายๆ เหมือน list"
      ]
    },
    {
      "cell_type": "code",
      "source": [],
      "metadata": {
        "id": "7OplLpMorcKT"
      },
      "execution_count": null,
      "outputs": []
    },
    {
      "cell_type": "code",
      "source": [],
      "metadata": {
        "id": "A8Y9vrfpD2Iq"
      },
      "execution_count": null,
      "outputs": []
    },
    {
      "cell_type": "markdown",
      "metadata": {
        "_uuid": "6a7cc117cd35832461892db0a29dc24bd337fb81",
        "collapsed": false,
        "id": "Qp-d8feyWABx"
      },
      "source": [
        "## Set\n",
        "set เป็น container ที่มีคุณสมบัติเหมือน set ในวิชาคณิตศาสตร์ นั่นคือสมาชิกใน set จะไม่มีการเรียงลำดับ และจะไม่ซ้ำกัน เช่น\n",
        "\n",
        "\n",
        "```\n",
        "st = {'cat', 'dog'}\n",
        "```"
      ]
    },
    {
      "cell_type": "code",
      "source": [],
      "metadata": {
        "id": "eT-rAqpxrfU9"
      },
      "execution_count": null,
      "outputs": []
    },
    {
      "cell_type": "code",
      "source": [],
      "metadata": {
        "id": "QqA99ToXrfRR"
      },
      "execution_count": null,
      "outputs": []
    },
    {
      "cell_type": "markdown",
      "metadata": {
        "_uuid": "4e86bc106118cb51122f0f5f485103a6424d0069",
        "collapsed": false,
        "id": "Ac82AO7aWAB2"
      },
      "source": [
        "### Loops with Set\n",
        "การวนลูปทำได้เช่นเดียวกับ list ยกเว้นแต่เราจะไม่ทราบลำดับของสมาชิกใน set\n",
        "\n",
        "เช่น\n",
        "\n",
        "```\n",
        "animals = {'cat', 'dog', 'fish'}\n",
        "for idx, animal in enumerate(animals):\n",
        "    print('#%d: %s' % (idx + 1, animal))\n",
        "```"
      ]
    },
    {
      "cell_type": "code",
      "source": [],
      "metadata": {
        "id": "mS3hhAXKrkct"
      },
      "execution_count": null,
      "outputs": []
    },
    {
      "cell_type": "code",
      "source": [],
      "metadata": {
        "id": "Pf_M7gZUrkYd"
      },
      "execution_count": null,
      "outputs": []
    },
    {
      "cell_type": "markdown",
      "metadata": {
        "_uuid": "d6ba94f07f6cf17993076a288d65d8fa9574baea",
        "collapsed": false,
        "id": "qDPicBB2m3f6"
      },
      "source": [
        "## Tuple\n",
        "Tuple คือตัวแปรประเภท **sequential** (ลำดับ) เหมือนกับ list ซึ่งจะทำ slicing ได้  \n",
        "การใช้งานประกาศดังนี้\n",
        "\n",
        "```\n",
        "t = (1, 2)\n",
        "```\n"
      ]
    },
    {
      "cell_type": "code",
      "source": [],
      "metadata": {
        "id": "hJsQBqlJrqXm"
      },
      "execution_count": null,
      "outputs": []
    },
    {
      "cell_type": "code",
      "source": [],
      "metadata": {
        "id": "SKH45RkjrqT-"
      },
      "execution_count": null,
      "outputs": []
    },
    {
      "cell_type": "markdown",
      "source": [
        "มีจุดแตกต่างที่สำคัญสองเรื่อง\n",
        "1. เรื่องแรกคือเมื่อมีการสร้าง tuple แล้ว เราจะไม่สามารถเปลี่ยนค่าข้างใน tuple ด้วยเครื่อง `=` ได้  \n"
      ],
      "metadata": {
        "id": "xUIzn_a89QnJ"
      }
    },
    {
      "cell_type": "code",
      "source": [],
      "metadata": {
        "id": "TS4VuU7vrsYS"
      },
      "execution_count": null,
      "outputs": []
    },
    {
      "cell_type": "code",
      "source": [],
      "metadata": {
        "id": "QZmMXiKwrsUZ"
      },
      "execution_count": null,
      "outputs": []
    },
    {
      "cell_type": "markdown",
      "metadata": {
        "_uuid": "bb6156e7b2a6c1e5325b3c3e630ca58930adf8b4",
        "collapsed": false,
        "id": "o-nfmrNIWAB-"
      },
      "source": [
        "2. ข้อแตกต่างเรื่องที่สองคือ เราสามารถใช้ tuple เป็น key ใน dict หรือสมาชิกใน set ได้ (list ไม่สามารถใช้งานในรูปแบบเหล่านี้ได้)"
      ]
    },
    {
      "cell_type": "code",
      "source": [],
      "metadata": {
        "id": "3KcFxDBArt0U"
      },
      "execution_count": null,
      "outputs": []
    },
    {
      "cell_type": "code",
      "source": [],
      "metadata": {
        "id": "1hiY3zVP8xxp"
      },
      "execution_count": null,
      "outputs": []
    },
    {
      "cell_type": "markdown",
      "metadata": {
        "collapsed": false,
        "id": "ztK4bVPKWACK"
      },
      "source": [
        "## Exercise 3\n",
        "จากข้อมูลที่อยู่ใน Dictionary ดังนี้\n",
        "\n",
        "``` python\n",
        "d = {'person': 2, 'cat': 4, 'spider': 8, 'horse': 4, 'bird' : 2 }\n",
        "```\n",
        "\n",
        "จงเขียนโปรแกรมเพื่อแสดงค่าให้ส่งรายชือสัตว์ที่จำนวนขาตามกำหนดเช่น <br>\n",
        "x = liveLeg(8) <br>\n",
        "print(x)\n",
        "\n",
        "'spider'\n"
      ]
    },
    {
      "cell_type": "code",
      "metadata": {
        "deletable": false,
        "nbgrader": {
          "cell_type": "code",
          "checksum": "cbc1e0d248a6726edb96879aa9a6ae0e",
          "grade": false,
          "grade_id": "7a9523",
          "locked": false,
          "schema_version": 3,
          "solution": true,
          "task": false
        },
        "id": "BPUlGKGeWACL"
      },
      "source": [
        "d = {'person': 2, 'cat': 4, 'spider': 8, 'horse': 4, 'bird' : 2 }\n",
        "\n",
        "def liveLegs(legs):\n",
        "    live = [];\n",
        "    # YOUR CODE HERE\n",
        "    raise NotImplementedError()\n",
        "    return live\n"
      ],
      "execution_count": null,
      "outputs": []
    },
    {
      "cell_type": "code",
      "metadata": {
        "deletable": false,
        "editable": false,
        "nbgrader": {
          "grade": true,
          "grade_id": "605bb2",
          "locked": true,
          "points": 1,
          "schema_version": 3,
          "solution": false,
          "task": false
        },
        "id": "V1rR5QyZWACN",
        "colab": {
          "base_uri": "https://localhost:8080/",
          "height": 321
        },
        "outputId": "a28146cf-720b-4053-f372-177f19432feb"
      },
      "source": [
        "# [Modify the tests below for your own problem]\n",
        "# Check that squares returns the correct output for several inputs:\n",
        "from nose.tools import assert_equal\n",
        "assert_equal(liveLegs(2), ['person', 'bird'])\n",
        "assert_equal(liveLegs(8), ['spider'])\n"
      ],
      "execution_count": null,
      "outputs": [
        {
          "output_type": "error",
          "ename": "NotImplementedError",
          "evalue": "ignored",
          "traceback": [
            "\u001b[0;31m---------------------------------------------------------------------------\u001b[0m",
            "\u001b[0;31mNotImplementedError\u001b[0m                       Traceback (most recent call last)",
            "\u001b[0;32m<ipython-input-75-0bec0b5eb263>\u001b[0m in \u001b[0;36m<cell line: 4>\u001b[0;34m()\u001b[0m\n\u001b[1;32m      2\u001b[0m \u001b[0;31m# Check that squares returns the correct output for several inputs:\u001b[0m\u001b[0;34m\u001b[0m\u001b[0;34m\u001b[0m\u001b[0m\n\u001b[1;32m      3\u001b[0m \u001b[0;32mfrom\u001b[0m \u001b[0mnose\u001b[0m\u001b[0;34m.\u001b[0m\u001b[0mtools\u001b[0m \u001b[0;32mimport\u001b[0m \u001b[0massert_equal\u001b[0m\u001b[0;34m\u001b[0m\u001b[0;34m\u001b[0m\u001b[0m\n\u001b[0;32m----> 4\u001b[0;31m \u001b[0massert_equal\u001b[0m\u001b[0;34m(\u001b[0m\u001b[0mliveLegs\u001b[0m\u001b[0;34m(\u001b[0m\u001b[0;36m2\u001b[0m\u001b[0;34m)\u001b[0m\u001b[0;34m,\u001b[0m \u001b[0;34m[\u001b[0m\u001b[0;34m'person'\u001b[0m\u001b[0;34m,\u001b[0m \u001b[0;34m'bird'\u001b[0m\u001b[0;34m]\u001b[0m\u001b[0;34m)\u001b[0m\u001b[0;34m\u001b[0m\u001b[0;34m\u001b[0m\u001b[0m\n\u001b[0m\u001b[1;32m      5\u001b[0m \u001b[0massert_equal\u001b[0m\u001b[0;34m(\u001b[0m\u001b[0mliveLegs\u001b[0m\u001b[0;34m(\u001b[0m\u001b[0;36m8\u001b[0m\u001b[0;34m)\u001b[0m\u001b[0;34m,\u001b[0m \u001b[0;34m[\u001b[0m\u001b[0;34m'spider'\u001b[0m\u001b[0;34m]\u001b[0m\u001b[0;34m)\u001b[0m\u001b[0;34m\u001b[0m\u001b[0;34m\u001b[0m\u001b[0m\n",
            "\u001b[0;32m<ipython-input-74-a0fa574b8a9e>\u001b[0m in \u001b[0;36mliveLegs\u001b[0;34m(legs)\u001b[0m\n\u001b[1;32m      4\u001b[0m     \u001b[0mlive\u001b[0m \u001b[0;34m=\u001b[0m \u001b[0;34m[\u001b[0m\u001b[0;34m]\u001b[0m\u001b[0;34m;\u001b[0m\u001b[0;34m\u001b[0m\u001b[0;34m\u001b[0m\u001b[0m\n\u001b[1;32m      5\u001b[0m     \u001b[0;31m# YOUR CODE HERE\u001b[0m\u001b[0;34m\u001b[0m\u001b[0;34m\u001b[0m\u001b[0m\n\u001b[0;32m----> 6\u001b[0;31m     \u001b[0;32mraise\u001b[0m \u001b[0mNotImplementedError\u001b[0m\u001b[0;34m(\u001b[0m\u001b[0;34m)\u001b[0m\u001b[0;34m\u001b[0m\u001b[0;34m\u001b[0m\u001b[0m\n\u001b[0m\u001b[1;32m      7\u001b[0m     \u001b[0;32mreturn\u001b[0m \u001b[0mlive\u001b[0m\u001b[0;34m\u001b[0m\u001b[0;34m\u001b[0m\u001b[0m\n",
            "\u001b[0;31mNotImplementedError\u001b[0m: "
          ]
        }
      ]
    }
  ]
}